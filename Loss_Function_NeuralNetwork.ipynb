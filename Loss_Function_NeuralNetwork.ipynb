{
 "cells": [
  {
   "cell_type": "code",
   "execution_count": 1,
   "id": "523a24b6-fa1a-4427-8d37-7dea6d4f57c6",
   "metadata": {},
   "outputs": [],
   "source": [
    "import pandas as pd\n",
    "import numpy as np\n",
    "import matplotlib.pyplot as plt\n",
    "import seaborn as sns"
   ]
  },
  {
   "cell_type": "code",
   "execution_count": 2,
   "id": "be800c05-6855-4951-992e-a7b152e59f33",
   "metadata": {},
   "outputs": [],
   "source": [
    "y_predicted = np.array([1,1,0,0,1])\n",
    "y_true = np.array([0.3,0.7,1,0,0.5])"
   ]
  },
  {
   "cell_type": "code",
   "execution_count": 39,
   "id": "2beeeb46-37bb-466d-ab0c-b26f4359ea6d",
   "metadata": {},
   "outputs": [],
   "source": [
    "# Python code for MAE\n",
    "\n",
    "def mean_absolute_error():\n",
    "    sum=0\n",
    "\n",
    "    # use zip function to run\n",
    "    for i,j in zip(y_true,y_predicted):\n",
    "        sum=sum+abs(i-j)\n",
    "        total_error = sum/len(y_true)\n",
    "    print(\"Total sum of Error\", sum)\n",
    "    return total_error\n"
   ]
  },
  {
   "cell_type": "code",
   "execution_count": 59,
   "id": "35b2ead3-e95f-4a78-bcb1-a5c6b8662499",
   "metadata": {},
   "outputs": [
    {
     "name": "stdout",
     "output_type": "stream",
     "text": [
      "Total sum of Error 2.5\n",
      "Mean abs error is 0.5\n"
     ]
    }
   ],
   "source": [
    "print(\"Mean abs error is\",mean_absolute_error())"
   ]
  },
  {
   "cell_type": "code",
   "execution_count": 60,
   "id": "8abfa6f1-25ae-4d52-874d-cea9f8e6e50e",
   "metadata": {},
   "outputs": [
    {
     "name": "stdout",
     "output_type": "stream",
     "text": [
      "total error is 2.5\n",
      "Mean abs error is 0.5\n"
     ]
    }
   ],
   "source": [
    "# Now this code can be written with the help of numpy as well\n",
    "# Numpy is faster than python code\n",
    "\n",
    "error = np.mean(np.abs(y_true-y_predicted))\n",
    "total_error = np.sum(np.abs(y_true-y_predicted))\n",
    "\n",
    "print(\"total error is\",total_error)\n",
    "print(\"Mean abs error is\",error)"
   ]
  },
  {
   "cell_type": "code",
   "execution_count": null,
   "id": "bae5ffe1-d281-4458-bea8-7d3c88231830",
   "metadata": {},
   "outputs": [],
   "source": []
  },
  {
   "cell_type": "code",
   "execution_count": null,
   "id": "06682116-5c71-4593-b221-62b94583f2b8",
   "metadata": {},
   "outputs": [],
   "source": []
  },
  {
   "cell_type": "code",
   "execution_count": null,
   "id": "0cde7647-daf2-4db2-93c2-272d4827a142",
   "metadata": {},
   "outputs": [],
   "source": []
  },
  {
   "cell_type": "code",
   "execution_count": 63,
   "id": "f2457bde-ae76-4986-b735-f2efabfb3755",
   "metadata": {},
   "outputs": [],
   "source": [
    "# Python code\n",
    "\n",
    "def mean_squared_error():\n",
    "    sum=0\n",
    "    for i,j in zip(y_true,y_predicted):\n",
    "        sum=sum+abs((i-j)**2)\n",
    "        total_error = sum/len(y_true)\n",
    "    print(\"Total squared error is\", sum)\n",
    "    return total_error"
   ]
  },
  {
   "cell_type": "code",
   "execution_count": 64,
   "id": "3a121f1a-38c9-48ac-86ed-5468f975b14a",
   "metadata": {},
   "outputs": [
    {
     "name": "stdout",
     "output_type": "stream",
     "text": [
      "Total squared error is 1.83\n",
      "Mean Squared error is 0.366\n"
     ]
    }
   ],
   "source": [
    "print(\"Mean Squared error is\",mean_squared_error())"
   ]
  },
  {
   "cell_type": "code",
   "execution_count": 62,
   "id": "5dc502eb-c9f7-4bb6-8098-4f0a092cd9e2",
   "metadata": {},
   "outputs": [
    {
     "name": "stdout",
     "output_type": "stream",
     "text": [
      "Total squared error is 1.83\n",
      "Mean Squared error is 0.366\n"
     ]
    }
   ],
   "source": [
    "# Numpy code\n",
    "\n",
    "sq_error = np.mean(np.abs(np.square(y_true-y_predicted)))\n",
    "total_squared_error = np.sum(np.abs(np.square(y_true-y_predicted)))\n",
    "\n",
    "print(\"Total squared error is\", total_squared_error)\n",
    "print(\"Mean Squared error is\",sq_error)"
   ]
  },
  {
   "cell_type": "code",
   "execution_count": 86,
   "id": "3a310907-6d9b-440f-94aa-1281577b183a",
   "metadata": {},
   "outputs": [
    {
     "name": "stdout",
     "output_type": "stream",
     "text": [
      "[1 1 0 0 1]\n",
      "[  0.   0. -inf -inf   0.]\n"
     ]
    },
    {
     "name": "stderr",
     "output_type": "stream",
     "text": [
      "C:\\Users\\kumaraka\\AppData\\Local\\Temp\\ipykernel_1820\\2316500995.py:4: RuntimeWarning: divide by zero encountered in log\n",
      "  print(np.log(y_predicted))\n"
     ]
    }
   ],
   "source": [
    "# Log loss / Binary Cross Entropy function\n",
    "\n",
    "print(y_predicted)\n",
    "print(np.log(y_predicted))\n",
    "\n",
    "# As we can see that the log of 0 is negative infinity so we need to change to something which is very near to 0"
   ]
  },
  {
   "cell_type": "code",
   "execution_count": 73,
   "id": "d9aabf8c-ac06-4f2b-9fa2-a80482da7bc8",
   "metadata": {},
   "outputs": [],
   "source": [
    "# this is basically 0.0000000000000001\n",
    "# i.e 1 after 15 zeros which is almost zero\n",
    "\n",
    "epsilon = 1e-15"
   ]
  },
  {
   "cell_type": "code",
   "execution_count": 83,
   "id": "2247e5cc-dd2b-4540-b6db-8529da40d3c8",
   "metadata": {},
   "outputs": [
    {
     "data": {
      "text/plain": [
       "[np.int64(1), np.int64(1), 1e-15, 1e-15, np.int64(1)]"
      ]
     },
     "execution_count": 83,
     "metadata": {},
     "output_type": "execute_result"
    }
   ],
   "source": [
    "# Now we need to replace the 0 with epsilon in the array\n",
    "\n",
    "y_predicted_new = [max(i,epsilon) for i in y_predicted]\n",
    "y_predicted_new"
   ]
  },
  {
   "cell_type": "code",
   "execution_count": 85,
   "id": "7777d95a-a859-4060-bd3f-347a0a5cf7c5",
   "metadata": {},
   "outputs": [
    {
     "data": {
      "text/plain": [
       "[0.999999999999999, 0.999999999999999, 1e-15, 1e-15, 0.999999999999999]"
      ]
     },
     "execution_count": 85,
     "metadata": {},
     "output_type": "execute_result"
    }
   ],
   "source": [
    "# Now since we have manipulted the 0's we need to adjust 1's as well\n",
    "\n",
    "y_predicted_new2 = [min(1-epsilon,i) for i in y_predicted_new]\n",
    "y_predicted_new2"
   ]
  },
  {
   "cell_type": "code",
   "execution_count": 94,
   "id": "bcd67e04-bcb0-4296-932a-8375c9fa7b89",
   "metadata": {},
   "outputs": [],
   "source": [
    "nplist = np.array(y_predicted_new2)\n",
    "fixedlist = nplist.astype(int)"
   ]
  },
  {
   "cell_type": "code",
   "execution_count": 95,
   "id": "1426def2-267b-4327-8bf2-fcd6feb6921e",
   "metadata": {},
   "outputs": [
    {
     "name": "stderr",
     "output_type": "stream",
     "text": [
      "C:\\Users\\kumaraka\\AppData\\Local\\Temp\\ipykernel_1820\\3382428009.py:3: RuntimeWarning: divide by zero encountered in log\n",
      "  -np.mean(y_true*np.log(fixedlist)+(1-y_true)*np.log(1-fixedlist))\n",
      "C:\\Users\\kumaraka\\AppData\\Local\\Temp\\ipykernel_1820\\3382428009.py:3: RuntimeWarning: invalid value encountered in multiply\n",
      "  -np.mean(y_true*np.log(fixedlist)+(1-y_true)*np.log(1-fixedlist))\n"
     ]
    },
    {
     "data": {
      "text/plain": [
       "np.float64(nan)"
      ]
     },
     "execution_count": 95,
     "metadata": {},
     "output_type": "execute_result"
    }
   ],
   "source": [
    "# Now we can easily apply binary cross entropy\n",
    "\n",
    "-np.mean(y_true*np.log(fixedlist)+(1-y_true)*np.log(1-fixedlist))"
   ]
  },
  {
   "cell_type": "code",
   "execution_count": null,
   "id": "3d4f1cbf-7411-439b-a750-c72ea30fa39b",
   "metadata": {},
   "outputs": [],
   "source": []
  },
  {
   "cell_type": "code",
   "execution_count": null,
   "id": "dac9a18d-647c-4753-8b2d-386ef3592d21",
   "metadata": {},
   "outputs": [],
   "source": []
  }
 ],
 "metadata": {
  "kernelspec": {
   "display_name": "Python 3 (ipykernel)",
   "language": "python",
   "name": "python3"
  },
  "language_info": {
   "codemirror_mode": {
    "name": "ipython",
    "version": 3
   },
   "file_extension": ".py",
   "mimetype": "text/x-python",
   "name": "python",
   "nbconvert_exporter": "python",
   "pygments_lexer": "ipython3",
   "version": "3.13.0"
  }
 },
 "nbformat": 4,
 "nbformat_minor": 5
}
