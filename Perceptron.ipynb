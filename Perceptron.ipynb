{
 "cells": [
  {
   "cell_type": "code",
   "execution_count": 10,
   "id": "234c932a-a2e4-4819-9e10-0e3e0ea2e4d4",
   "metadata": {},
   "outputs": [],
   "source": [
    "# what is perceptron?\n",
    "# The perceptron is the basic building block of a neural network. It's a simple computational model that takes several inputs, \n",
    "# applies weights to them, adds a bias, and produces an output. It's essentially a decision-making unit."
   ]
  },
  {
   "cell_type": "code",
   "execution_count": 11,
   "id": "891649cd-1d23-44bc-9014-b47819aa21ae",
   "metadata": {},
   "outputs": [],
   "source": [
    "def step_function(x):\n",
    "    return 1 if x>=0 else 0"
   ]
  },
  {
   "cell_type": "code",
   "execution_count": 12,
   "id": "dcb53af6-f375-4817-9721-bdfd21d82cf1",
   "metadata": {},
   "outputs": [],
   "source": [
    "def perceptron(x1,w1,x2,w2,b):\n",
    "\n",
    "    z = x1*w1+x2*w2+b\n",
    "    ans = step_function(z)\n",
    "\n",
    "    return ans\n",
    "    \n",
    "    "
   ]
  },
  {
   "cell_type": "code",
   "execution_count": 13,
   "id": "cf96c456-9c72-42c8-88e2-22c33958fc0e",
   "metadata": {},
   "outputs": [
    {
     "name": "stdout",
     "output_type": "stream",
     "text": [
      "0\n",
      "0\n",
      "0\n",
      "1\n"
     ]
    }
   ],
   "source": [
    "# Trying different weights and bias to match the AND logic\n",
    "\n",
    "print(perceptron(0, 0, 1, 1, -1.5))  # Expected: 0\n",
    "print(perceptron(0, 1, 1, 1, -1.5))  # Expected: 0\n",
    "print(perceptron(1, 0, 1, 1, -1.5))  # Expected: 0\n",
    "print(perceptron(1, 1, 1, 1, -1.5))  # Expected: 1"
   ]
  },
  {
   "cell_type": "code",
   "execution_count": 14,
   "id": "b4477118-daba-4381-ab97-ce95812b5059",
   "metadata": {},
   "outputs": [],
   "source": [
    "# So basically we are trying to simulate and AND gate by using different gate"
   ]
  },
  {
   "cell_type": "code",
   "execution_count": 15,
   "id": "def671f0-d558-46e3-89ee-5238208dcce3",
   "metadata": {},
   "outputs": [
    {
     "name": "stdout",
     "output_type": "stream",
     "text": [
      "0\n",
      "1\n",
      "1\n",
      "1\n"
     ]
    }
   ],
   "source": [
    "# Trying different weights and bias to match the OR logic\n",
    "\n",
    "print(perceptron(0, 0, 1, 1, -1.5))  # Expected: 0\n",
    "print(perceptron(0, 1, 1, 1, -1.0))  # Expected: 0\n",
    "print(perceptron(1, 0, 1, 1, -1.0))  # Expected: 0\n",
    "print(perceptron(1, 1, 1, 1, -1.0))  # Expected: 1"
   ]
  }
 ],
 "metadata": {
  "kernelspec": {
   "display_name": "Python 3 (ipykernel)",
   "language": "python",
   "name": "python3"
  },
  "language_info": {
   "codemirror_mode": {
    "name": "ipython",
    "version": 3
   },
   "file_extension": ".py",
   "mimetype": "text/x-python",
   "name": "python",
   "nbconvert_exporter": "python",
   "pygments_lexer": "ipython3",
   "version": "3.13.0"
  }
 },
 "nbformat": 4,
 "nbformat_minor": 5
}
