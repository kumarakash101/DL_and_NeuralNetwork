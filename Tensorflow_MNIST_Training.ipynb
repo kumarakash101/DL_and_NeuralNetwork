{
 "cells": [
  {
   "cell_type": "code",
   "execution_count": 3,
   "id": "cb4e5d98-6713-419c-bce3-ba355e725bb7",
   "metadata": {},
   "outputs": [],
   "source": [
    "import tensorflow as tf\n",
    "import numpy as np\n",
    "import matplotlib.pyplot as plt"
   ]
  },
  {
   "cell_type": "code",
   "execution_count": 3,
   "id": "5f866c3e-6496-4f6d-a3bb-30a850144503",
   "metadata": {},
   "outputs": [],
   "source": [
    "# (x_train,y_train),(x_test,y_test) = tf.keras.datasets.mnist.load_data()\n",
    "\n",
    "# This will not download the mnist dataset for some unknown reasons you have to manually download the dataset"
   ]
  },
  {
   "cell_type": "code",
   "execution_count": 4,
   "id": "e67f321f-fc26-4935-9571-3533cd719a50",
   "metadata": {},
   "outputs": [],
   "source": [
    "mnist_path = \"mnist.npz\"\n",
    "\n",
    "data = np.load(mnist_path)\n",
    "\n",
    "# np.load is used to load files like npz and npy\n",
    "x_train, y_train = data['x_train'], data['y_train']\n",
    "x_test, y_test = data['x_test'], data['y_test']"
   ]
  },
  {
   "cell_type": "code",
   "execution_count": 5,
   "id": "434e6c97-5d8d-429d-b5e2-ab2884fd30f5",
   "metadata": {},
   "outputs": [
    {
     "name": "stdout",
     "output_type": "stream",
     "text": [
      "<class 'numpy.lib.npyio.NpzFile'>\n"
     ]
    }
   ],
   "source": [
    "print(type(data))"
   ]
  },
  {
   "cell_type": "code",
   "execution_count": 6,
   "id": "09d30029-219b-400c-822d-edff60786e70",
   "metadata": {},
   "outputs": [
    {
     "name": "stdout",
     "output_type": "stream",
     "text": [
      "X Training data shape is  (60000, 28, 28)\n",
      "Y Training data shape is  (60000,)\n",
      "X Test data shape is  (10000, 28, 28)\n",
      "Y Test data shape is  (10000,)\n"
     ]
    }
   ],
   "source": [
    "print(\"X Training data shape is \",x_train.shape)\n",
    "print(\"Y Training data shape is \",y_train.shape)\n",
    "print(\"X Test data shape is \",x_test.shape)\n",
    "print(\"Y Test data shape is \",y_test.shape)\n"
   ]
  },
  {
   "cell_type": "code",
   "execution_count": 7,
   "id": "b67ad72b-0414-41e8-aca5-8d46359ef267",
   "metadata": {},
   "outputs": [
    {
     "data": {
      "text/plain": [
       "NpzFile 'mnist.npz' with keys: x_test, x_train, y_train, y_test"
      ]
     },
     "execution_count": 7,
     "metadata": {},
     "output_type": "execute_result"
    }
   ],
   "source": [
    "data"
   ]
  },
  {
   "cell_type": "code",
   "execution_count": 8,
   "id": "035a33c5-8e84-4bd2-a97b-a164af904cc5",
   "metadata": {},
   "outputs": [
    {
     "data": {
      "text/plain": [
       "<Figure size 1000x200 with 0 Axes>"
      ]
     },
     "execution_count": 8,
     "metadata": {},
     "output_type": "execute_result"
    },
    {
     "data": {
      "text/plain": [
       "<Figure size 1000x200 with 0 Axes>"
      ]
     },
     "metadata": {},
     "output_type": "display_data"
    }
   ],
   "source": [
    "plt.figure(figsize=(10,2))"
   ]
  },
  {
   "cell_type": "code",
   "execution_count": 15,
   "id": "9d20305d-32fa-4d1e-bc9b-9f7128e45872",
   "metadata": {},
   "outputs": [
    {
     "data": {
      "image/png": "[encoded data removed]",
      "text/plain": [
       "<Figure size 640x480 with 10 Axes>"
      ]
     },
     "metadata": {},
     "output_type": "display_data"
    }
   ],
   "source": [
    "# simple loop to get digits from 0 to 9\n",
    "for i in range(10):\n",
    "\n",
    "    # This creates a subplot in a single row (1) with 10 columns, and selects the (i+1)-th position for the current image.\n",
    "    plt.subplot(1,10,i+1)\n",
    "\n",
    "    # imshow is a method used to show the images if available in a dataset(in our case the images are stored in x_train)\n",
    "    plt.imshow(x_train[i], cmap='grey')\n",
    "\n",
    "    # turning off grid for better visibility\n",
    "    plt.axis(\"off\")\n",
    "\n",
    "    # giving title to each of the image \n",
    "    plt.title(str(y_train[i]))\n",
    "plt.tight_layout()"
   ]
  },
  {
   "cell_type": "code",
   "execution_count": 11,
   "id": "94dfa36d-a4e1-4011-be36-dedd0394368c",
   "metadata": {},
   "outputs": [],
   "source": [
    "from sklearn.datasets import load_digits"
   ]
  },
  {
   "cell_type": "code",
   "execution_count": 12,
   "id": "d3374d12-fe38-4674-9d05-1b88a3db1979",
   "metadata": {},
   "outputs": [
    {
     "data": {
      "text/plain": [
       "<function sklearn.datasets._base.load_digits(*, n_class=10, return_X_y=False, as_frame=False)>"
      ]
     },
     "execution_count": 12,
     "metadata": {},
     "output_type": "execute_result"
    }
   ],
   "source": [
    "load_digits"
   ]
  },
  {
   "cell_type": "code",
   "execution_count": 13,
   "id": "85cf2548-51d2-411b-9329-7387f32bad80",
   "metadata": {},
   "outputs": [],
   "source": [
    "digits = load_digits()"
   ]
  },
  {
   "cell_type": "code",
   "execution_count": 14,
   "id": "33510adc-8c9f-4a9b-b1d4-d94ffc6d00e4",
   "metadata": {},
   "outputs": [
    {
     "data": {
      "image/png": "[encoded data removed]",
      "text/plain": [
       "<Figure size 1000x200 with 10 Axes>"
      ]
     },
     "metadata": {},
     "output_type": "display_data"
    }
   ],
   "source": [
    "plt.figure(figsize=(10,2))\n",
    "# plt.style.use('greyscale')\n",
    "for i in range(10):\n",
    "    plt.subplot(1,10,i+1)\n",
    "    plt.imshow(digits.images[i],cmap='grey')\n",
    "    plt.title(str(i))\n",
    "    plt.gray\n",
    "    plt.axis(\"off\")"
   ]
  },
  {
   "cell_type": "code",
   "execution_count": null,
   "id": "e74a1673-d2b8-4c56-a7cc-be000aa0a490",
   "metadata": {},
   "outputs": [],
   "source": []
  }
 ],
 "metadata": {
  "kernelspec": {
   "display_name": "Python 3 (ipykernel)",
   "language": "python",
   "name": "python3"
  },
  "language_info": {
   "codemirror_mode": {
    "name": "ipython",
    "version": 3
   },
   "file_extension": ".py",
   "mimetype": "text/x-python",
   "name": "python",
   "nbconvert_exporter": "python",
   "pygments_lexer": "ipython3",
   "version": "3.13.0"
  }
 },
 "nbformat": 4,
 "nbformat_minor": 5
}
