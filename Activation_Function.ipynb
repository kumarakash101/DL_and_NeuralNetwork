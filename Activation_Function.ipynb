{
 "cells": [
  {
   "cell_type": "code",
   "execution_count": 1,
   "id": "417f8730-f9ac-4667-8020-e6c5803488b6",
   "metadata": {},
   "outputs": [],
   "source": [
    "import math"
   ]
  },
  {
   "cell_type": "code",
   "execution_count": 29,
   "id": "32b65980-7de9-4040-9e2a-a28c7e602159",
   "metadata": {},
   "outputs": [],
   "source": [
    "# Here we will talk about different activation function like Sigmoid, ReLU and Tanh"
   ]
  },
  {
   "cell_type": "code",
   "execution_count": 30,
   "id": "1dc2c939-ecd9-4c4a-b993-578eb6d04a31",
   "metadata": {},
   "outputs": [],
   "source": [
    "# Sigmoid gives 1 for any positive number and 0 for any negative number\n",
    "\n",
    "def sigmoid(x):\n",
    "    return 1/(1+(math.exp(-x)))"
   ]
  },
  {
   "cell_type": "code",
   "execution_count": 14,
   "id": "d7077598-ee69-4141-bf24-f0cf7675ed5a",
   "metadata": {},
   "outputs": [
    {
     "data": {
      "text/plain": [
       "1.0"
      ]
     },
     "execution_count": 14,
     "metadata": {},
     "output_type": "execute_result"
    }
   ],
   "source": [
    "sigmoid(100)"
   ]
  },
  {
   "cell_type": "code",
   "execution_count": 15,
   "id": "ba24a426-3797-4f18-80e7-7c4bfbc0bd1a",
   "metadata": {},
   "outputs": [
    {
     "data": {
      "text/plain": [
       "0.7310585786300049"
      ]
     },
     "execution_count": 15,
     "metadata": {},
     "output_type": "execute_result"
    }
   ],
   "source": [
    "sigmoid(1)"
   ]
  },
  {
   "cell_type": "code",
   "execution_count": 16,
   "id": "d732dd00-4256-475a-a3ee-be822fc1b1f0",
   "metadata": {},
   "outputs": [
    {
     "data": {
      "text/plain": [
       "2.678636961808078e-33"
      ]
     },
     "execution_count": 16,
     "metadata": {},
     "output_type": "execute_result"
    }
   ],
   "source": [
    "sigmoid(-75)"
   ]
  },
  {
   "cell_type": "code",
   "execution_count": 17,
   "id": "08d3fe26-b2b0-45e7-b4ae-f4b29da8b970",
   "metadata": {},
   "outputs": [
    {
     "data": {
      "text/plain": [
       "0.4692887094999521"
      ]
     },
     "execution_count": 17,
     "metadata": {},
     "output_type": "execute_result"
    }
   ],
   "source": [
    "sigmoid(-0.123)"
   ]
  },
  {
   "cell_type": "code",
   "execution_count": 31,
   "id": "7c7b778f-52d6-4e9b-9436-93df842f6dd9",
   "metadata": {},
   "outputs": [],
   "source": [
    "# Tanh acativation function\n",
    "# This gives 1 for any positive number and -1 for any negative number\n",
    "\n",
    "def tanh(x):\n",
    "    return (math.exp(x)-math.exp(-x))/(math.exp(x)+math.exp(-x))"
   ]
  },
  {
   "cell_type": "code",
   "execution_count": 19,
   "id": "30231526-34eb-474a-9497-01318155f7cc",
   "metadata": {},
   "outputs": [
    {
     "data": {
      "text/plain": [
       "2.6881171418161356e+43"
      ]
     },
     "execution_count": 19,
     "metadata": {},
     "output_type": "execute_result"
    }
   ],
   "source": [
    "tanh(100)"
   ]
  },
  {
   "cell_type": "code",
   "execution_count": 20,
   "id": "dee5c807-fc8e-45c0-92f0-25dee538766e",
   "metadata": {},
   "outputs": [
    {
     "data": {
      "text/plain": [
       "1.2332258585828328"
      ]
     },
     "execution_count": 20,
     "metadata": {},
     "output_type": "execute_result"
    }
   ],
   "source": [
    "tanh(0.123)"
   ]
  },
  {
   "cell_type": "code",
   "execution_count": 23,
   "id": "d3c22642-c499-454e-9e62-a3dfec60324d",
   "metadata": {},
   "outputs": [
    {
     "data": {
      "text/plain": [
       "-1.0"
      ]
     },
     "execution_count": 23,
     "metadata": {},
     "output_type": "execute_result"
    }
   ],
   "source": [
    "tanh(-56)"
   ]
  },
  {
   "cell_type": "code",
   "execution_count": 24,
   "id": "ee551756-d68b-4f4b-a86b-9c9598a80df6",
   "metadata": {},
   "outputs": [
    {
     "data": {
      "text/plain": [
       "0.12238344189440872"
      ]
     },
     "execution_count": 24,
     "metadata": {},
     "output_type": "execute_result"
    }
   ],
   "source": [
    "tanh(0.123)"
   ]
  },
  {
   "cell_type": "code",
   "execution_count": 32,
   "id": "30032ecb-9d85-426b-9c54-f0a683c5ccc8",
   "metadata": {},
   "outputs": [],
   "source": [
    "# ReLU activation function\n",
    "# This gives 0 for any negative number and the same positive number for any positive number\n",
    "\n",
    "def relu(x):\n",
    "    return max(x,0)\n"
   ]
  },
  {
   "cell_type": "code",
   "execution_count": 26,
   "id": "09578d23-aa36-4d02-89ea-8b3013650118",
   "metadata": {},
   "outputs": [
    {
     "data": {
      "text/plain": [
       "0"
      ]
     },
     "execution_count": 26,
     "metadata": {},
     "output_type": "execute_result"
    }
   ],
   "source": [
    "relu(-9)"
   ]
  },
  {
   "cell_type": "code",
   "execution_count": 27,
   "id": "08e286fb-c782-4616-a9fa-aeb0183f8afc",
   "metadata": {},
   "outputs": [
    {
     "data": {
      "text/plain": [
       "188"
      ]
     },
     "execution_count": 27,
     "metadata": {},
     "output_type": "execute_result"
    }
   ],
   "source": [
    "relu(188)"
   ]
  },
  {
   "cell_type": "code",
   "execution_count": 28,
   "id": "55823c07-c11d-4474-a8df-f7332eba3523",
   "metadata": {},
   "outputs": [
    {
     "data": {
      "text/plain": [
       "0"
      ]
     },
     "execution_count": 28,
     "metadata": {},
     "output_type": "execute_result"
    }
   ],
   "source": [
    "relu(-0.3303)"
   ]
  },
  {
   "cell_type": "code",
   "execution_count": null,
   "id": "3e950692-e6b5-44e8-88b7-84decc7bf6eb",
   "metadata": {},
   "outputs": [],
   "source": []
  }
 ],
 "metadata": {
  "kernelspec": {
   "display_name": "Python 3 (ipykernel)",
   "language": "python",
   "name": "python3"
  },
  "language_info": {
   "codemirror_mode": {
    "name": "ipython",
    "version": 3
   },
   "file_extension": ".py",
   "mimetype": "text/x-python",
   "name": "python",
   "nbconvert_exporter": "python",
   "pygments_lexer": "ipython3",
   "version": "3.13.0"
  }
 },
 "nbformat": 4,
 "nbformat_minor": 5
}
