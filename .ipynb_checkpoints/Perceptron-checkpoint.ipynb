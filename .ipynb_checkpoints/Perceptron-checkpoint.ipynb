{
 "cells": [
  {
   "cell_type": "code",
   "execution_count": 1,
   "id": "234c932a-a2e4-4819-9e10-0e3e0ea2e4d4",
   "metadata": {},
   "outputs": [],
   "source": [
    "# what is perceptron?\n",
    "# The perceptron is the basic building block of a neural network. It's a simple computational model that takes several inputs, \n",
    "# applies weights to them, adds a bias, and produces an output. It's essentially a decision-making unit."
   ]
  },
  {
   "cell_type": "code",
   "execution_count": 3,
   "id": "891649cd-1d23-44bc-9014-b47819aa21ae",
   "metadata": {},
   "outputs": [],
   "source": [
    "def step_function(x):\n",
    "    return 1 if x>=0 else 0"
   ]
  },
  {
   "cell_type": "code",
   "execution_count": 4,
   "id": "dcb53af6-f375-4817-9721-bdfd21d82cf1",
   "metadata": {},
   "outputs": [],
   "source": [
    "def perceptron(x1,w1,x2,w2,b):\n",
    "\n",
    "    z = x1*w1+x2*w2+b\n",
    "    ans = step_function(z)\n",
    "\n",
    "    return ans\n",
    "    \n",
    "    "
   ]
  },
  {
   "cell_type": "code",
   "execution_count": 7,
   "id": "cf96c456-9c72-42c8-88e2-22c33958fc0e",
   "metadata": {},
   "outputs": [
    {
     "name": "stdout",
     "output_type": "stream",
     "text": [
      "0\n",
      "0\n",
      "0\n",
      "1\n"
     ]
    }
   ],
   "source": [
    "# Try different weights and bias to match the AND logic\n",
    "\n",
    "print(perceptron(0, 0, 1, 1, -1.5))  # Expected: 0\n",
    "print(perceptron(0, 1, 1, 1, -1.5))  # Expected: 0\n",
    "print(perceptron(1, 0, 1, 1, -1.5))  # Expected: 0\n",
    "print(perceptron(1, 1, 1, 1, -1.5))  # Expected: 1"
   ]
  },
  {
   "cell_type": "code",
   "execution_count": null,
   "id": "b5d7f104-6e49-425d-ae33-c0056c0e8ee2",
   "metadata": {},
   "outputs": [],
   "source": []
  },
  {
   "cell_type": "code",
   "execution_count": null,
   "id": "300afb36-6bbb-412e-b2bf-251b5a2fcad3",
   "metadata": {},
   "outputs": [],
   "source": []
  },
  {
   "cell_type": "code",
   "execution_count": null,
   "id": "f5f7b48f-4e25-4f91-8541-3f85708940ab",
   "metadata": {},
   "outputs": [],
   "source": []
  },
  {
   "cell_type": "code",
   "execution_count": null,
   "id": "5d0c8bee-704c-49fd-a9cd-99cea03c1da6",
   "metadata": {},
   "outputs": [],
   "source": []
  },
  {
   "cell_type": "code",
   "execution_count": null,
   "id": "b0e7194a-704b-4df6-a84c-a01fe02f4221",
   "metadata": {},
   "outputs": [],
   "source": []
  },
  {
   "cell_type": "code",
   "execution_count": null,
   "id": "e505bdca-827f-4bef-a5a9-6fd2d5427b26",
   "metadata": {},
   "outputs": [],
   "source": []
  },
  {
   "cell_type": "code",
   "execution_count": null,
   "id": "bb6cc53e-c4dc-494d-9d87-0966d5d1e090",
   "metadata": {},
   "outputs": [],
   "source": []
  },
  {
   "cell_type": "code",
   "execution_count": null,
   "id": "7dfb56cc-aaa6-4778-9e38-09dbd9c6c750",
   "metadata": {},
   "outputs": [],
   "source": []
  },
  {
   "cell_type": "code",
   "execution_count": null,
   "id": "cae78f18-4ca3-451b-aaf5-1da9257256ef",
   "metadata": {},
   "outputs": [],
   "source": []
  },
  {
   "cell_type": "code",
   "execution_count": null,
   "id": "88611ceb-fc49-40a1-b01b-344060dc29ce",
   "metadata": {},
   "outputs": [],
   "source": []
  },
  {
   "cell_type": "code",
   "execution_count": null,
   "id": "b4477118-daba-4381-ab97-ce95812b5059",
   "metadata": {},
   "outputs": [],
   "source": []
  }
 ],
 "metadata": {
  "kernelspec": {
   "display_name": "Python 3 (ipykernel)",
   "language": "python",
   "name": "python3"
  },
  "language_info": {
   "codemirror_mode": {
    "name": "ipython",
    "version": 3
   },
   "file_extension": ".py",
   "mimetype": "text/x-python",
   "name": "python",
   "nbconvert_exporter": "python",
   "pygments_lexer": "ipython3",
   "version": "3.13.0"
  }
 },
 "nbformat": 4,
 "nbformat_minor": 5
}
